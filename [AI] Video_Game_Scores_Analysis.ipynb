{
  "nbformat": 4,
  "nbformat_minor": 0,
  "metadata": {
    "colab": {
      "name": "Trabalho Final - IA.ipynb",
      "provenance": []
    },
    "kernelspec": {
      "name": "python3",
      "display_name": "Python 3"
    }
  },
  "cells": [
    {
      "cell_type": "code",
      "metadata": {
        "colab": {
          "base_uri": "https://localhost:8080/"
        },
        "id": "mvI6hS83cDfs",
        "outputId": "eb07876f-18b8-46b1-f96f-d979087722b4"
      },
      "source": [
        "# Run this cell to mount your Google Drive.\n",
        "from google.colab import drive\n",
        "drive.mount('/content/drive')"
      ],
      "execution_count": null,
      "outputs": [
        {
          "output_type": "stream",
          "text": [
            "Mounted at /content/drive\n"
          ],
          "name": "stdout"
        }
      ]
    },
    {
      "cell_type": "code",
      "metadata": {
        "id": "-dUzhySwcRJK",
        "colab": {
          "base_uri": "https://localhost:8080/",
          "height": 204
        },
        "outputId": "95e4ad99-fa18-49ad-bddb-79d76abbfd61"
      },
      "source": [
        "#Import the dataset\n",
        "import pandas as pd\n",
        "\n",
        "df = pd.read_csv('drive/MyDrive/Colab Notebooks/Video_Games_Sales_as_at_22_Dec_2016.csv')\n",
        "#Available at: https://www.kaggle.com/rush4ratio/video-game-sales-with-ratings\n",
        "df.head()"
      ],
      "execution_count": null,
      "outputs": [
        {
          "output_type": "execute_result",
          "data": {
            "text/html": [
              "<div>\n",
              "<style scoped>\n",
              "    .dataframe tbody tr th:only-of-type {\n",
              "        vertical-align: middle;\n",
              "    }\n",
              "\n",
              "    .dataframe tbody tr th {\n",
              "        vertical-align: top;\n",
              "    }\n",
              "\n",
              "    .dataframe thead th {\n",
              "        text-align: right;\n",
              "    }\n",
              "</style>\n",
              "<table border=\"1\" class=\"dataframe\">\n",
              "  <thead>\n",
              "    <tr style=\"text-align: right;\">\n",
              "      <th></th>\n",
              "      <th>Name</th>\n",
              "      <th>Platform</th>\n",
              "      <th>Year_of_Release</th>\n",
              "      <th>Genre</th>\n",
              "      <th>Publisher</th>\n",
              "      <th>NA_Sales</th>\n",
              "      <th>EU_Sales</th>\n",
              "      <th>JP_Sales</th>\n",
              "      <th>Other_Sales</th>\n",
              "      <th>Global_Sales</th>\n",
              "      <th>Critic_Score</th>\n",
              "      <th>Critic_Count</th>\n",
              "      <th>User_Score</th>\n",
              "      <th>User_Count</th>\n",
              "      <th>Developer</th>\n",
              "      <th>Rating</th>\n",
              "    </tr>\n",
              "  </thead>\n",
              "  <tbody>\n",
              "    <tr>\n",
              "      <th>0</th>\n",
              "      <td>Wii Sports</td>\n",
              "      <td>Wii</td>\n",
              "      <td>2006.0</td>\n",
              "      <td>Sports</td>\n",
              "      <td>Nintendo</td>\n",
              "      <td>41.36</td>\n",
              "      <td>28.96</td>\n",
              "      <td>3.77</td>\n",
              "      <td>8.45</td>\n",
              "      <td>82.53</td>\n",
              "      <td>76.0</td>\n",
              "      <td>51.0</td>\n",
              "      <td>8</td>\n",
              "      <td>322.0</td>\n",
              "      <td>Nintendo</td>\n",
              "      <td>E</td>\n",
              "    </tr>\n",
              "    <tr>\n",
              "      <th>1</th>\n",
              "      <td>Super Mario Bros.</td>\n",
              "      <td>NES</td>\n",
              "      <td>1985.0</td>\n",
              "      <td>Platform</td>\n",
              "      <td>Nintendo</td>\n",
              "      <td>29.08</td>\n",
              "      <td>3.58</td>\n",
              "      <td>6.81</td>\n",
              "      <td>0.77</td>\n",
              "      <td>40.24</td>\n",
              "      <td>NaN</td>\n",
              "      <td>NaN</td>\n",
              "      <td>NaN</td>\n",
              "      <td>NaN</td>\n",
              "      <td>NaN</td>\n",
              "      <td>NaN</td>\n",
              "    </tr>\n",
              "    <tr>\n",
              "      <th>2</th>\n",
              "      <td>Mario Kart Wii</td>\n",
              "      <td>Wii</td>\n",
              "      <td>2008.0</td>\n",
              "      <td>Racing</td>\n",
              "      <td>Nintendo</td>\n",
              "      <td>15.68</td>\n",
              "      <td>12.76</td>\n",
              "      <td>3.79</td>\n",
              "      <td>3.29</td>\n",
              "      <td>35.52</td>\n",
              "      <td>82.0</td>\n",
              "      <td>73.0</td>\n",
              "      <td>8.3</td>\n",
              "      <td>709.0</td>\n",
              "      <td>Nintendo</td>\n",
              "      <td>E</td>\n",
              "    </tr>\n",
              "    <tr>\n",
              "      <th>3</th>\n",
              "      <td>Wii Sports Resort</td>\n",
              "      <td>Wii</td>\n",
              "      <td>2009.0</td>\n",
              "      <td>Sports</td>\n",
              "      <td>Nintendo</td>\n",
              "      <td>15.61</td>\n",
              "      <td>10.93</td>\n",
              "      <td>3.28</td>\n",
              "      <td>2.95</td>\n",
              "      <td>32.77</td>\n",
              "      <td>80.0</td>\n",
              "      <td>73.0</td>\n",
              "      <td>8</td>\n",
              "      <td>192.0</td>\n",
              "      <td>Nintendo</td>\n",
              "      <td>E</td>\n",
              "    </tr>\n",
              "    <tr>\n",
              "      <th>4</th>\n",
              "      <td>Pokemon Red/Pokemon Blue</td>\n",
              "      <td>GB</td>\n",
              "      <td>1996.0</td>\n",
              "      <td>Role-Playing</td>\n",
              "      <td>Nintendo</td>\n",
              "      <td>11.27</td>\n",
              "      <td>8.89</td>\n",
              "      <td>10.22</td>\n",
              "      <td>1.00</td>\n",
              "      <td>31.37</td>\n",
              "      <td>NaN</td>\n",
              "      <td>NaN</td>\n",
              "      <td>NaN</td>\n",
              "      <td>NaN</td>\n",
              "      <td>NaN</td>\n",
              "      <td>NaN</td>\n",
              "    </tr>\n",
              "  </tbody>\n",
              "</table>\n",
              "</div>"
            ],
            "text/plain": [
              "                       Name Platform  ...  Developer Rating\n",
              "0                Wii Sports      Wii  ...   Nintendo      E\n",
              "1         Super Mario Bros.      NES  ...        NaN    NaN\n",
              "2            Mario Kart Wii      Wii  ...   Nintendo      E\n",
              "3         Wii Sports Resort      Wii  ...   Nintendo      E\n",
              "4  Pokemon Red/Pokemon Blue       GB  ...        NaN    NaN\n",
              "\n",
              "[5 rows x 16 columns]"
            ]
          },
          "metadata": {
            "tags": []
          },
          "execution_count": 2
        }
      ]
    },
    {
      "cell_type": "code",
      "metadata": {
        "id": "cn8TQgXyfdSN",
        "colab": {
          "base_uri": "https://localhost:8080/"
        },
        "outputId": "40e19356-afa9-40af-be1a-213bba700550"
      },
      "source": [
        "#Get info about the dataset\n",
        "df.info()"
      ],
      "execution_count": null,
      "outputs": [
        {
          "output_type": "stream",
          "text": [
            "<class 'pandas.core.frame.DataFrame'>\n",
            "RangeIndex: 16719 entries, 0 to 16718\n",
            "Data columns (total 16 columns):\n",
            " #   Column           Non-Null Count  Dtype  \n",
            "---  ------           --------------  -----  \n",
            " 0   Name             16717 non-null  object \n",
            " 1   Platform         16719 non-null  object \n",
            " 2   Year_of_Release  16450 non-null  float64\n",
            " 3   Genre            16717 non-null  object \n",
            " 4   Publisher        16665 non-null  object \n",
            " 5   NA_Sales         16719 non-null  float64\n",
            " 6   EU_Sales         16719 non-null  float64\n",
            " 7   JP_Sales         16719 non-null  float64\n",
            " 8   Other_Sales      16719 non-null  float64\n",
            " 9   Global_Sales     16719 non-null  float64\n",
            " 10  Critic_Score     8137 non-null   float64\n",
            " 11  Critic_Count     8137 non-null   float64\n",
            " 12  User_Score       10015 non-null  object \n",
            " 13  User_Count       7590 non-null   float64\n",
            " 14  Developer        10096 non-null  object \n",
            " 15  Rating           9950 non-null   object \n",
            "dtypes: float64(9), object(7)\n",
            "memory usage: 2.0+ MB\n"
          ],
          "name": "stdout"
        }
      ]
    },
    {
      "cell_type": "code",
      "metadata": {
        "id": "B-R54LN-1lza",
        "colab": {
          "base_uri": "https://localhost:8080/",
          "height": 204
        },
        "outputId": "b8f8ae7b-b39b-4499-a540-f22d52fce6a0"
      },
      "source": [
        "#Remove rows with null info\n",
        "df.dropna(inplace=True)\n",
        "df.head()"
      ],
      "execution_count": null,
      "outputs": [
        {
          "output_type": "execute_result",
          "data": {
            "text/html": [
              "<div>\n",
              "<style scoped>\n",
              "    .dataframe tbody tr th:only-of-type {\n",
              "        vertical-align: middle;\n",
              "    }\n",
              "\n",
              "    .dataframe tbody tr th {\n",
              "        vertical-align: top;\n",
              "    }\n",
              "\n",
              "    .dataframe thead th {\n",
              "        text-align: right;\n",
              "    }\n",
              "</style>\n",
              "<table border=\"1\" class=\"dataframe\">\n",
              "  <thead>\n",
              "    <tr style=\"text-align: right;\">\n",
              "      <th></th>\n",
              "      <th>Name</th>\n",
              "      <th>Platform</th>\n",
              "      <th>Year_of_Release</th>\n",
              "      <th>Genre</th>\n",
              "      <th>Publisher</th>\n",
              "      <th>NA_Sales</th>\n",
              "      <th>EU_Sales</th>\n",
              "      <th>JP_Sales</th>\n",
              "      <th>Other_Sales</th>\n",
              "      <th>Global_Sales</th>\n",
              "      <th>Critic_Score</th>\n",
              "      <th>Critic_Count</th>\n",
              "      <th>User_Score</th>\n",
              "      <th>User_Count</th>\n",
              "      <th>Developer</th>\n",
              "      <th>Rating</th>\n",
              "    </tr>\n",
              "  </thead>\n",
              "  <tbody>\n",
              "    <tr>\n",
              "      <th>0</th>\n",
              "      <td>Wii Sports</td>\n",
              "      <td>Wii</td>\n",
              "      <td>2006.0</td>\n",
              "      <td>Sports</td>\n",
              "      <td>Nintendo</td>\n",
              "      <td>41.36</td>\n",
              "      <td>28.96</td>\n",
              "      <td>3.77</td>\n",
              "      <td>8.45</td>\n",
              "      <td>82.53</td>\n",
              "      <td>76.0</td>\n",
              "      <td>51.0</td>\n",
              "      <td>8</td>\n",
              "      <td>322.0</td>\n",
              "      <td>Nintendo</td>\n",
              "      <td>E</td>\n",
              "    </tr>\n",
              "    <tr>\n",
              "      <th>2</th>\n",
              "      <td>Mario Kart Wii</td>\n",
              "      <td>Wii</td>\n",
              "      <td>2008.0</td>\n",
              "      <td>Racing</td>\n",
              "      <td>Nintendo</td>\n",
              "      <td>15.68</td>\n",
              "      <td>12.76</td>\n",
              "      <td>3.79</td>\n",
              "      <td>3.29</td>\n",
              "      <td>35.52</td>\n",
              "      <td>82.0</td>\n",
              "      <td>73.0</td>\n",
              "      <td>8.3</td>\n",
              "      <td>709.0</td>\n",
              "      <td>Nintendo</td>\n",
              "      <td>E</td>\n",
              "    </tr>\n",
              "    <tr>\n",
              "      <th>3</th>\n",
              "      <td>Wii Sports Resort</td>\n",
              "      <td>Wii</td>\n",
              "      <td>2009.0</td>\n",
              "      <td>Sports</td>\n",
              "      <td>Nintendo</td>\n",
              "      <td>15.61</td>\n",
              "      <td>10.93</td>\n",
              "      <td>3.28</td>\n",
              "      <td>2.95</td>\n",
              "      <td>32.77</td>\n",
              "      <td>80.0</td>\n",
              "      <td>73.0</td>\n",
              "      <td>8</td>\n",
              "      <td>192.0</td>\n",
              "      <td>Nintendo</td>\n",
              "      <td>E</td>\n",
              "    </tr>\n",
              "    <tr>\n",
              "      <th>6</th>\n",
              "      <td>New Super Mario Bros.</td>\n",
              "      <td>DS</td>\n",
              "      <td>2006.0</td>\n",
              "      <td>Platform</td>\n",
              "      <td>Nintendo</td>\n",
              "      <td>11.28</td>\n",
              "      <td>9.14</td>\n",
              "      <td>6.50</td>\n",
              "      <td>2.88</td>\n",
              "      <td>29.80</td>\n",
              "      <td>89.0</td>\n",
              "      <td>65.0</td>\n",
              "      <td>8.5</td>\n",
              "      <td>431.0</td>\n",
              "      <td>Nintendo</td>\n",
              "      <td>E</td>\n",
              "    </tr>\n",
              "    <tr>\n",
              "      <th>7</th>\n",
              "      <td>Wii Play</td>\n",
              "      <td>Wii</td>\n",
              "      <td>2006.0</td>\n",
              "      <td>Misc</td>\n",
              "      <td>Nintendo</td>\n",
              "      <td>13.96</td>\n",
              "      <td>9.18</td>\n",
              "      <td>2.93</td>\n",
              "      <td>2.84</td>\n",
              "      <td>28.92</td>\n",
              "      <td>58.0</td>\n",
              "      <td>41.0</td>\n",
              "      <td>6.6</td>\n",
              "      <td>129.0</td>\n",
              "      <td>Nintendo</td>\n",
              "      <td>E</td>\n",
              "    </tr>\n",
              "  </tbody>\n",
              "</table>\n",
              "</div>"
            ],
            "text/plain": [
              "                    Name Platform  Year_of_Release  ... User_Count Developer  Rating\n",
              "0             Wii Sports      Wii           2006.0  ...      322.0  Nintendo       E\n",
              "2         Mario Kart Wii      Wii           2008.0  ...      709.0  Nintendo       E\n",
              "3      Wii Sports Resort      Wii           2009.0  ...      192.0  Nintendo       E\n",
              "6  New Super Mario Bros.       DS           2006.0  ...      431.0  Nintendo       E\n",
              "7               Wii Play      Wii           2006.0  ...      129.0  Nintendo       E\n",
              "\n",
              "[5 rows x 16 columns]"
            ]
          },
          "metadata": {
            "tags": []
          },
          "execution_count": 4
        }
      ]
    },
    {
      "cell_type": "code",
      "metadata": {
        "id": "LUJ6eq3viDQg",
        "colab": {
          "base_uri": "https://localhost:8080/",
          "height": 204
        },
        "outputId": "7c914643-8e1d-44f2-b219-d314dd7650c2"
      },
      "source": [
        "#Remove the 'Name' feature\n",
        "df.drop(['Name'], axis=1, inplace=True)\n",
        "df.head()"
      ],
      "execution_count": null,
      "outputs": [
        {
          "output_type": "execute_result",
          "data": {
            "text/html": [
              "<div>\n",
              "<style scoped>\n",
              "    .dataframe tbody tr th:only-of-type {\n",
              "        vertical-align: middle;\n",
              "    }\n",
              "\n",
              "    .dataframe tbody tr th {\n",
              "        vertical-align: top;\n",
              "    }\n",
              "\n",
              "    .dataframe thead th {\n",
              "        text-align: right;\n",
              "    }\n",
              "</style>\n",
              "<table border=\"1\" class=\"dataframe\">\n",
              "  <thead>\n",
              "    <tr style=\"text-align: right;\">\n",
              "      <th></th>\n",
              "      <th>Platform</th>\n",
              "      <th>Year_of_Release</th>\n",
              "      <th>Genre</th>\n",
              "      <th>Publisher</th>\n",
              "      <th>NA_Sales</th>\n",
              "      <th>EU_Sales</th>\n",
              "      <th>JP_Sales</th>\n",
              "      <th>Other_Sales</th>\n",
              "      <th>Global_Sales</th>\n",
              "      <th>Critic_Score</th>\n",
              "      <th>Critic_Count</th>\n",
              "      <th>User_Score</th>\n",
              "      <th>User_Count</th>\n",
              "      <th>Developer</th>\n",
              "      <th>Rating</th>\n",
              "    </tr>\n",
              "  </thead>\n",
              "  <tbody>\n",
              "    <tr>\n",
              "      <th>0</th>\n",
              "      <td>Wii</td>\n",
              "      <td>2006.0</td>\n",
              "      <td>Sports</td>\n",
              "      <td>Nintendo</td>\n",
              "      <td>41.36</td>\n",
              "      <td>28.96</td>\n",
              "      <td>3.77</td>\n",
              "      <td>8.45</td>\n",
              "      <td>82.53</td>\n",
              "      <td>76.0</td>\n",
              "      <td>51.0</td>\n",
              "      <td>8</td>\n",
              "      <td>322.0</td>\n",
              "      <td>Nintendo</td>\n",
              "      <td>E</td>\n",
              "    </tr>\n",
              "    <tr>\n",
              "      <th>2</th>\n",
              "      <td>Wii</td>\n",
              "      <td>2008.0</td>\n",
              "      <td>Racing</td>\n",
              "      <td>Nintendo</td>\n",
              "      <td>15.68</td>\n",
              "      <td>12.76</td>\n",
              "      <td>3.79</td>\n",
              "      <td>3.29</td>\n",
              "      <td>35.52</td>\n",
              "      <td>82.0</td>\n",
              "      <td>73.0</td>\n",
              "      <td>8.3</td>\n",
              "      <td>709.0</td>\n",
              "      <td>Nintendo</td>\n",
              "      <td>E</td>\n",
              "    </tr>\n",
              "    <tr>\n",
              "      <th>3</th>\n",
              "      <td>Wii</td>\n",
              "      <td>2009.0</td>\n",
              "      <td>Sports</td>\n",
              "      <td>Nintendo</td>\n",
              "      <td>15.61</td>\n",
              "      <td>10.93</td>\n",
              "      <td>3.28</td>\n",
              "      <td>2.95</td>\n",
              "      <td>32.77</td>\n",
              "      <td>80.0</td>\n",
              "      <td>73.0</td>\n",
              "      <td>8</td>\n",
              "      <td>192.0</td>\n",
              "      <td>Nintendo</td>\n",
              "      <td>E</td>\n",
              "    </tr>\n",
              "    <tr>\n",
              "      <th>6</th>\n",
              "      <td>DS</td>\n",
              "      <td>2006.0</td>\n",
              "      <td>Platform</td>\n",
              "      <td>Nintendo</td>\n",
              "      <td>11.28</td>\n",
              "      <td>9.14</td>\n",
              "      <td>6.50</td>\n",
              "      <td>2.88</td>\n",
              "      <td>29.80</td>\n",
              "      <td>89.0</td>\n",
              "      <td>65.0</td>\n",
              "      <td>8.5</td>\n",
              "      <td>431.0</td>\n",
              "      <td>Nintendo</td>\n",
              "      <td>E</td>\n",
              "    </tr>\n",
              "    <tr>\n",
              "      <th>7</th>\n",
              "      <td>Wii</td>\n",
              "      <td>2006.0</td>\n",
              "      <td>Misc</td>\n",
              "      <td>Nintendo</td>\n",
              "      <td>13.96</td>\n",
              "      <td>9.18</td>\n",
              "      <td>2.93</td>\n",
              "      <td>2.84</td>\n",
              "      <td>28.92</td>\n",
              "      <td>58.0</td>\n",
              "      <td>41.0</td>\n",
              "      <td>6.6</td>\n",
              "      <td>129.0</td>\n",
              "      <td>Nintendo</td>\n",
              "      <td>E</td>\n",
              "    </tr>\n",
              "  </tbody>\n",
              "</table>\n",
              "</div>"
            ],
            "text/plain": [
              "  Platform  Year_of_Release     Genre  ... User_Count  Developer  Rating\n",
              "0      Wii           2006.0    Sports  ...      322.0   Nintendo       E\n",
              "2      Wii           2008.0    Racing  ...      709.0   Nintendo       E\n",
              "3      Wii           2009.0    Sports  ...      192.0   Nintendo       E\n",
              "6       DS           2006.0  Platform  ...      431.0   Nintendo       E\n",
              "7      Wii           2006.0      Misc  ...      129.0   Nintendo       E\n",
              "\n",
              "[5 rows x 15 columns]"
            ]
          },
          "metadata": {
            "tags": []
          },
          "execution_count": 5
        }
      ]
    },
    {
      "cell_type": "code",
      "metadata": {
        "id": "VTZ5azvZ3Hfd",
        "colab": {
          "base_uri": "https://localhost:8080/",
          "height": 204
        },
        "outputId": "e0ac5b02-79cb-4d0e-e2f7-514f5a17510a"
      },
      "source": [
        "#Transform textual features into categorical\n",
        "from sklearn.preprocessing import OrdinalEncoder\n",
        "\n",
        "df[['Platform', 'Genre', 'Publisher', 'Developer', 'Rating']] = OrdinalEncoder().fit_transform(df[['Platform', 'Genre', 'Publisher', 'Developer', 'Rating']])\n",
        "df.head()"
      ],
      "execution_count": null,
      "outputs": [
        {
          "output_type": "execute_result",
          "data": {
            "text/html": [
              "<div>\n",
              "<style scoped>\n",
              "    .dataframe tbody tr th:only-of-type {\n",
              "        vertical-align: middle;\n",
              "    }\n",
              "\n",
              "    .dataframe tbody tr th {\n",
              "        vertical-align: top;\n",
              "    }\n",
              "\n",
              "    .dataframe thead th {\n",
              "        text-align: right;\n",
              "    }\n",
              "</style>\n",
              "<table border=\"1\" class=\"dataframe\">\n",
              "  <thead>\n",
              "    <tr style=\"text-align: right;\">\n",
              "      <th></th>\n",
              "      <th>Platform</th>\n",
              "      <th>Year_of_Release</th>\n",
              "      <th>Genre</th>\n",
              "      <th>Publisher</th>\n",
              "      <th>NA_Sales</th>\n",
              "      <th>EU_Sales</th>\n",
              "      <th>JP_Sales</th>\n",
              "      <th>Other_Sales</th>\n",
              "      <th>Global_Sales</th>\n",
              "      <th>Critic_Score</th>\n",
              "      <th>Critic_Count</th>\n",
              "      <th>User_Score</th>\n",
              "      <th>User_Count</th>\n",
              "      <th>Developer</th>\n",
              "      <th>Rating</th>\n",
              "    </tr>\n",
              "  </thead>\n",
              "  <tbody>\n",
              "    <tr>\n",
              "      <th>0</th>\n",
              "      <td>12.0</td>\n",
              "      <td>2006.0</td>\n",
              "      <td>10.0</td>\n",
              "      <td>160.0</td>\n",
              "      <td>41.36</td>\n",
              "      <td>28.96</td>\n",
              "      <td>3.77</td>\n",
              "      <td>8.45</td>\n",
              "      <td>82.53</td>\n",
              "      <td>76.0</td>\n",
              "      <td>51.0</td>\n",
              "      <td>8</td>\n",
              "      <td>322.0</td>\n",
              "      <td>771.0</td>\n",
              "      <td>1.0</td>\n",
              "    </tr>\n",
              "    <tr>\n",
              "      <th>2</th>\n",
              "      <td>12.0</td>\n",
              "      <td>2008.0</td>\n",
              "      <td>6.0</td>\n",
              "      <td>160.0</td>\n",
              "      <td>15.68</td>\n",
              "      <td>12.76</td>\n",
              "      <td>3.79</td>\n",
              "      <td>3.29</td>\n",
              "      <td>35.52</td>\n",
              "      <td>82.0</td>\n",
              "      <td>73.0</td>\n",
              "      <td>8.3</td>\n",
              "      <td>709.0</td>\n",
              "      <td>771.0</td>\n",
              "      <td>1.0</td>\n",
              "    </tr>\n",
              "    <tr>\n",
              "      <th>3</th>\n",
              "      <td>12.0</td>\n",
              "      <td>2009.0</td>\n",
              "      <td>10.0</td>\n",
              "      <td>160.0</td>\n",
              "      <td>15.61</td>\n",
              "      <td>10.93</td>\n",
              "      <td>3.28</td>\n",
              "      <td>2.95</td>\n",
              "      <td>32.77</td>\n",
              "      <td>80.0</td>\n",
              "      <td>73.0</td>\n",
              "      <td>8</td>\n",
              "      <td>192.0</td>\n",
              "      <td>771.0</td>\n",
              "      <td>1.0</td>\n",
              "    </tr>\n",
              "    <tr>\n",
              "      <th>6</th>\n",
              "      <td>2.0</td>\n",
              "      <td>2006.0</td>\n",
              "      <td>4.0</td>\n",
              "      <td>160.0</td>\n",
              "      <td>11.28</td>\n",
              "      <td>9.14</td>\n",
              "      <td>6.50</td>\n",
              "      <td>2.88</td>\n",
              "      <td>29.80</td>\n",
              "      <td>89.0</td>\n",
              "      <td>65.0</td>\n",
              "      <td>8.5</td>\n",
              "      <td>431.0</td>\n",
              "      <td>771.0</td>\n",
              "      <td>1.0</td>\n",
              "    </tr>\n",
              "    <tr>\n",
              "      <th>7</th>\n",
              "      <td>12.0</td>\n",
              "      <td>2006.0</td>\n",
              "      <td>3.0</td>\n",
              "      <td>160.0</td>\n",
              "      <td>13.96</td>\n",
              "      <td>9.18</td>\n",
              "      <td>2.93</td>\n",
              "      <td>2.84</td>\n",
              "      <td>28.92</td>\n",
              "      <td>58.0</td>\n",
              "      <td>41.0</td>\n",
              "      <td>6.6</td>\n",
              "      <td>129.0</td>\n",
              "      <td>771.0</td>\n",
              "      <td>1.0</td>\n",
              "    </tr>\n",
              "  </tbody>\n",
              "</table>\n",
              "</div>"
            ],
            "text/plain": [
              "   Platform  Year_of_Release  Genre  ...  User_Count  Developer  Rating\n",
              "0      12.0           2006.0   10.0  ...       322.0      771.0     1.0\n",
              "2      12.0           2008.0    6.0  ...       709.0      771.0     1.0\n",
              "3      12.0           2009.0   10.0  ...       192.0      771.0     1.0\n",
              "6       2.0           2006.0    4.0  ...       431.0      771.0     1.0\n",
              "7      12.0           2006.0    3.0  ...       129.0      771.0     1.0\n",
              "\n",
              "[5 rows x 15 columns]"
            ]
          },
          "metadata": {
            "tags": []
          },
          "execution_count": 6
        }
      ]
    },
    {
      "cell_type": "code",
      "metadata": {
        "colab": {
          "base_uri": "https://localhost:8080/"
        },
        "id": "9_UzoFQeMxp9",
        "outputId": "f0df7033-9025-441f-f063-71efc294178d"
      },
      "source": [
        "df.info()"
      ],
      "execution_count": null,
      "outputs": [
        {
          "output_type": "stream",
          "text": [
            "<class 'pandas.core.frame.DataFrame'>\n",
            "Int64Index: 6825 entries, 0 to 16706\n",
            "Data columns (total 15 columns):\n",
            " #   Column           Non-Null Count  Dtype  \n",
            "---  ------           --------------  -----  \n",
            " 0   Platform         6825 non-null   float64\n",
            " 1   Year_of_Release  6825 non-null   float64\n",
            " 2   Genre            6825 non-null   float64\n",
            " 3   Publisher        6825 non-null   float64\n",
            " 4   NA_Sales         6825 non-null   float64\n",
            " 5   EU_Sales         6825 non-null   float64\n",
            " 6   JP_Sales         6825 non-null   float64\n",
            " 7   Other_Sales      6825 non-null   float64\n",
            " 8   Global_Sales     6825 non-null   float64\n",
            " 9   Critic_Score     6825 non-null   float64\n",
            " 10  Critic_Count     6825 non-null   float64\n",
            " 11  User_Score       6825 non-null   object \n",
            " 12  User_Count       6825 non-null   float64\n",
            " 13  Developer        6825 non-null   float64\n",
            " 14  Rating           6825 non-null   float64\n",
            "dtypes: float64(14), object(1)\n",
            "memory usage: 853.1+ KB\n"
          ],
          "name": "stdout"
        }
      ]
    },
    {
      "cell_type": "code",
      "metadata": {
        "id": "krK6ATtl6xHl"
      },
      "source": [
        "X = df.drop(['Critic_Score'], axis=1)\n",
        "y = df['Critic_Score']\n",
        "X"
      ],
      "execution_count": null,
      "outputs": []
    },
    {
      "cell_type": "code",
      "metadata": {
        "id": "WAjRnghStuUh"
      },
      "source": [
        "#Import the necessary libraries\n",
        "from sklearn.pipeline import make_pipeline\n",
        "\n",
        "from sklearn.linear_model import LinearRegression\n",
        "from sklearn.linear_model import Lasso\n",
        "from sklearn.linear_model import ElasticNet\n",
        "from sklearn.linear_model import RidgeCV\n",
        "from sklearn.tree import DecisionTreeRegressor\n",
        "from sklearn.ensemble import RandomForestRegressor\n",
        "from sklearn.ensemble import StackingRegressor"
      ],
      "execution_count": null,
      "outputs": []
    },
    {
      "cell_type": "code",
      "metadata": {
        "id": "V6gMZrxniAvK"
      },
      "source": [
        "#Create the pipelines\n",
        "linearReg_pipeline = make_pipeline(LinearRegression())\n",
        "lasso_pipeline = make_pipeline(Lasso())\n",
        "elastic_pipeline = make_pipeline(ElasticNet())\n",
        "decTree_pipeline = make_pipeline(DecisionTreeRegressor())\n",
        "\n",
        "estimators = [('Linear Regression', linearReg_pipeline),\n",
        "              ('Lasso', lasso_pipeline),\n",
        "              ('ElasticNet', elastic_pipeline),\n",
        "              ('Decision Tree Regressor', decTree_pipeline)]\n",
        "\n",
        "\n",
        "#Stack the regressors using an ensemble method\n",
        "stacking_regressor_Ridge = StackingRegressor(estimators=estimators, final_estimator=RidgeCV())\n",
        "stacking_regressor_Forest = StackingRegressor(estimators=estimators, final_estimator=RandomForestRegressor())"
      ],
      "execution_count": null,
      "outputs": []
    },
    {
      "cell_type": "code",
      "metadata": {
        "id": "pgNpFDzCmfmE",
        "colab": {
          "base_uri": "https://localhost:8080/"
        },
        "outputId": "7a9c784e-8629-4e94-b758-5fc03e5da68a"
      },
      "source": [
        "from sklearn.model_selection import cross_validate, cross_val_predict\n",
        "import sklearn.metrics as metrics\n",
        "\n",
        "scoring = ['r2', 'neg_root_mean_squared_error', 'neg_mean_absolute_error', 'max_error']\n",
        "scores_Ridge = []\n",
        "y_pred_total_Ridge = []\n",
        "\n",
        "for (name, est) in (estimators + [('Stacking Regressor',stacking_regressor_Ridge)]):\n",
        "    score = cross_validate(est, X, y, scoring=scoring, n_jobs=-1, verbose=0)\n",
        "    y_pred = cross_val_predict(est, X, y, n_jobs=-1, verbose=0)\n",
        "    scores_Ridge.append(score)\n",
        "    y_pred_total_Ridge.append(y_pred)\n",
        "\n",
        "print(scores_Ridge)"
      ],
      "execution_count": null,
      "outputs": [
        {
          "output_type": "stream",
          "text": [
            "[{'fit_time': array([0.04832196, 0.01656342, 0.01561928, 0.01461244, 0.01280427]), 'score_time': array([0.00590134, 0.00599742, 0.00466299, 0.00497627, 0.00283003]), 'test_r2': array([-5.67888567,  0.38638905,  0.39398435,  0.39571771,  0.45417191]), 'test_neg_root_mean_squared_error': array([-28.17245609,  -9.23613083,  -9.86200649, -10.69431154,\n",
            "       -10.7757638 ]), 'test_neg_mean_absolute_error': array([-14.15880208,  -7.35320093,  -7.68388767,  -8.44355972,\n",
            "        -8.3435132 ]), 'test_max_error': array([-549.40498223,  -29.13429131,  -47.90888077,  -37.56665648,\n",
            "        -40.1687353 ])}, {'fit_time': array([0.01699591, 0.03053117, 0.02624989, 0.01728725, 0.01167536]), 'score_time': array([0.00494051, 0.0049119 , 0.00486112, 0.00476813, 0.0029273 ]), 'test_r2': array([0.09934263, 0.3768631 , 0.39064595, 0.37522594, 0.4334773 ]), 'test_neg_root_mean_squared_error': array([-10.34552443,  -9.30754753,  -9.88913295, -10.87412678,\n",
            "       -10.97814041]), 'test_neg_mean_absolute_error': array([-8.19987012, -7.45809946, -7.7365991 , -8.57036486, -8.5082226 ]), 'test_max_error': array([-46.19673487, -28.44996165, -46.71179161, -36.32324485,\n",
            "       -39.52622987])}, {'fit_time': array([0.02330828, 0.01869535, 0.02318025, 0.01985002, 0.01046395]), 'score_time': array([0.00508523, 0.0064559 , 0.00483179, 0.00525546, 0.00337005]), 'test_r2': array([0.07711076, 0.36567702, 0.38057392, 0.35561108, 0.40958988]), 'test_neg_root_mean_squared_error': array([-10.47243078,  -9.39071693,  -9.97052684, -11.043505  ,\n",
            "       -11.20719733]), 'test_neg_mean_absolute_error': array([-8.35161319, -7.58502142, -7.82090193, -8.71439359, -8.67848354]), 'test_max_error': array([-44.23639844, -28.53178722, -45.66388104, -37.36599213,\n",
            "       -37.88580388])}, {'fit_time': array([0.09343863, 0.09672117, 0.09569359, 0.09518027, 0.06819296]), 'score_time': array([0.00529671, 0.00632191, 0.00533843, 0.00547004, 0.00345659]), 'test_r2': array([-0.25548236, -0.08352594, -0.08631457,  0.03415229,  0.02638967]), 'test_neg_root_mean_squared_error': array([-12.21456526, -12.27335182, -13.20386779, -13.52032793,\n",
            "       -14.39172025]), 'test_neg_mean_absolute_error': array([ -9.2014652 ,  -9.15677656, -10.00952381, -10.64395604,\n",
            "       -11.18021978]), 'test_max_error': array([-52., -56., -58., -45., -56.])}, {'fit_time': array([0.76507616, 0.78155231, 0.79902911, 0.78525257, 0.52576399]), 'score_time': array([0.0134747 , 0.01439357, 0.01405573, 0.0144732 , 0.00833273]), 'test_r2': array([-2.27921091,  0.40009397,  0.40146355,  0.41178442,  0.45615531]), 'test_neg_root_mean_squared_error': array([-19.74046512,  -9.13240451,  -9.80096113, -10.55118314,\n",
            "       -10.75616783]), 'test_neg_mean_absolute_error': array([-10.6596736 ,  -7.2962533 ,  -7.64937401,  -8.35209066,\n",
            "        -8.32903201]), 'test_max_error': array([-376.8962617 ,  -30.08693186,  -49.70244763,  -35.93607877,\n",
            "        -43.64557871])}]\n"
          ],
          "name": "stdout"
        }
      ]
    },
    {
      "cell_type": "code",
      "metadata": {
        "id": "EaqnGeKoJpv6",
        "colab": {
          "base_uri": "https://localhost:8080/"
        },
        "outputId": "853702dd-7085-4f68-c0f5-7a947255421a"
      },
      "source": [
        "scores_Forest = []\n",
        "y_pred_total_Forest = []\n",
        "\n",
        "for (name, est) in (estimators + [('Stacking Regressor',stacking_regressor_Forest)]):\n",
        "    score = cross_validate(est, X, y, scoring=scoring, n_jobs=-1, verbose=0)\n",
        "    y_pred = cross_val_predict(est, X, y, n_jobs=-1, verbose=0)\n",
        "    scores_Forest.append(score)\n",
        "    y_pred_total_Forest.append(y_pred)\n",
        "\n",
        "print(scores_Forest)"
      ],
      "execution_count": null,
      "outputs": [
        {
          "output_type": "stream",
          "text": [
            "[{'fit_time': array([0.02424502, 0.01749015, 0.02279758, 0.0150497 , 0.01028776]), 'score_time': array([0.00487375, 0.00764799, 0.00506663, 0.00481844, 0.00286269]), 'test_r2': array([-5.67888567,  0.38638905,  0.39398435,  0.39571771,  0.45417191]), 'test_neg_root_mean_squared_error': array([-28.17245609,  -9.23613083,  -9.86200649, -10.69431154,\n",
            "       -10.7757638 ]), 'test_neg_mean_absolute_error': array([-14.15880208,  -7.35320093,  -7.68388767,  -8.44355972,\n",
            "        -8.3435132 ]), 'test_max_error': array([-549.40498223,  -29.13429131,  -47.90888077,  -37.56665648,\n",
            "        -40.1687353 ])}, {'fit_time': array([0.02219915, 0.01844335, 0.01647615, 0.02162266, 0.01554203]), 'score_time': array([0.00559568, 0.01271224, 0.00506687, 0.00521612, 0.00311112]), 'test_r2': array([0.09934263, 0.3768631 , 0.39064595, 0.37522594, 0.4334773 ]), 'test_neg_root_mean_squared_error': array([-10.34552443,  -9.30754753,  -9.88913295, -10.87412678,\n",
            "       -10.97814041]), 'test_neg_mean_absolute_error': array([-8.19987012, -7.45809946, -7.7365991 , -8.57036486, -8.5082226 ]), 'test_max_error': array([-46.19673487, -28.44996165, -46.71179161, -36.32324485,\n",
            "       -39.52622987])}, {'fit_time': array([0.02403688, 0.01656103, 0.01671147, 0.02604222, 0.01552844]), 'score_time': array([0.00497913, 0.00622153, 0.00510955, 0.00901389, 0.0034821 ]), 'test_r2': array([0.07711076, 0.36567702, 0.38057392, 0.35561108, 0.40958988]), 'test_neg_root_mean_squared_error': array([-10.47243078,  -9.39071693,  -9.97052684, -11.043505  ,\n",
            "       -11.20719733]), 'test_neg_mean_absolute_error': array([-8.35161319, -7.58502142, -7.82090193, -8.71439359, -8.67848354]), 'test_max_error': array([-44.23639844, -28.53178722, -45.66388104, -37.36599213,\n",
            "       -37.88580388])}, {'fit_time': array([0.09318113, 0.10277081, 0.10820603, 0.11715817, 0.07482147]), 'score_time': array([0.0052743 , 0.00574207, 0.00623989, 0.00533319, 0.00347137]), 'test_r2': array([-0.18038842, -0.18105629, -0.08914018,  0.0172717 , -0.0151794 ]), 'test_neg_root_mean_squared_error': array([-11.84363943, -12.8138261 , -13.22102887, -13.63796683,\n",
            "       -14.69574208]), 'test_neg_mean_absolute_error': array([ -8.90769231,  -9.7032967 ,  -9.98534799, -10.68571429,\n",
            "       -11.46666667]), 'test_max_error': array([-53., -56., -58., -52., -56.])}, {'fit_time': array([3.84780097, 3.88573885, 3.74840426, 3.74633956, 2.47655606]), 'score_time': array([0.04683995, 0.06966543, 0.06512976, 0.07030201, 0.04592609]), 'test_r2': array([0.30105564, 0.33780506, 0.3586805 , 0.39013903, 0.3966063 ]), 'test_neg_root_mean_squared_error': array([ -9.11368488,  -9.59481166, -10.14519935, -10.74356261,\n",
            "       -11.32975469]), 'test_neg_mean_absolute_error': array([-6.84241758, -7.59013919, -7.84852747, -8.58113553, -8.74531868]), 'test_max_error': array([-45.86, -37.18, -47.51, -33.03, -43.45])}]\n"
          ],
          "name": "stdout"
        }
      ]
    },
    {
      "cell_type": "code",
      "metadata": {
        "id": "MYRXQbaVafEC"
      },
      "source": [
        "scores = scores_Ridge + scores_Forest\n",
        "r2_scores = []\n",
        "rmse_scores = []\n",
        "mae_scores = []\n",
        "max_scores = []\n",
        "\n",
        "for item in scores:\n",
        "  #Each score goes to their own list\n",
        "  r2_scores.append(item['test_r2'].mean())\n",
        "  rmse_scores.append(-item['test_neg_root_mean_squared_error'].mean())\n",
        "  mae_scores.append(-item['test_neg_mean_absolute_error'].mean())\n",
        "  max_scores.append(abs(item['test_max_error'].mean()))"
      ],
      "execution_count": null,
      "outputs": []
    },
    {
      "cell_type": "code",
      "metadata": {
        "colab": {
          "base_uri": "https://localhost:8080/",
          "height": 359
        },
        "id": "26jNFmylfh5U",
        "outputId": "c5a1e881-2ce9-4e8e-8c34-f70946df7970"
      },
      "source": [
        "#Put the metrics into a new dataset\n",
        "estimators_names = ['Linear Regression (RidgeCV)', 'Lasso (RidgeCV)', 'ElasticNet (RidgeCV)', 'Decision Tree Regressor (RidgeCV)', 'Stacking Regressor (RidgeCV)', 'Linear Regression (Forests)', 'Lasso (Forests)', 'ElasticNet (Forests)', 'Decision Tree Regressor (Forests)', 'Stacking Regressor (Forests)']\n",
        "dict_aux = {'Estimators': estimators_names, 'R2': r2_scores, 'Root Mean Squared Error': rmse_scores, 'Mean Absolute Error': mae_scores, 'Max Error': max_scores}\n",
        "df_scores = pd.DataFrame(dict_aux)\n",
        "df_scores"
      ],
      "execution_count": null,
      "outputs": [
        {
          "output_type": "execute_result",
          "data": {
            "text/html": [
              "<div>\n",
              "<style scoped>\n",
              "    .dataframe tbody tr th:only-of-type {\n",
              "        vertical-align: middle;\n",
              "    }\n",
              "\n",
              "    .dataframe tbody tr th {\n",
              "        vertical-align: top;\n",
              "    }\n",
              "\n",
              "    .dataframe thead th {\n",
              "        text-align: right;\n",
              "    }\n",
              "</style>\n",
              "<table border=\"1\" class=\"dataframe\">\n",
              "  <thead>\n",
              "    <tr style=\"text-align: right;\">\n",
              "      <th></th>\n",
              "      <th>Estimators</th>\n",
              "      <th>R2</th>\n",
              "      <th>Root Mean Squared Error</th>\n",
              "      <th>Mean Absolute Error</th>\n",
              "      <th>Max Error</th>\n",
              "    </tr>\n",
              "  </thead>\n",
              "  <tbody>\n",
              "    <tr>\n",
              "      <th>0</th>\n",
              "      <td>Linear Regression (RidgeCV)</td>\n",
              "      <td>-0.809725</td>\n",
              "      <td>13.748134</td>\n",
              "      <td>9.196593</td>\n",
              "      <td>140.836709</td>\n",
              "    </tr>\n",
              "    <tr>\n",
              "      <th>1</th>\n",
              "      <td>Lasso (RidgeCV)</td>\n",
              "      <td>0.335111</td>\n",
              "      <td>10.278894</td>\n",
              "      <td>8.094631</td>\n",
              "      <td>39.441593</td>\n",
              "    </tr>\n",
              "    <tr>\n",
              "      <th>2</th>\n",
              "      <td>ElasticNet (RidgeCV)</td>\n",
              "      <td>0.317713</td>\n",
              "      <td>10.416875</td>\n",
              "      <td>8.230083</td>\n",
              "      <td>38.736773</td>\n",
              "    </tr>\n",
              "    <tr>\n",
              "      <th>3</th>\n",
              "      <td>Decision Tree Regressor (RidgeCV)</td>\n",
              "      <td>-0.072956</td>\n",
              "      <td>13.120767</td>\n",
              "      <td>10.038388</td>\n",
              "      <td>53.400000</td>\n",
              "    </tr>\n",
              "    <tr>\n",
              "      <th>4</th>\n",
              "      <td>Stacking Regressor (RidgeCV)</td>\n",
              "      <td>-0.121943</td>\n",
              "      <td>11.996236</td>\n",
              "      <td>8.457285</td>\n",
              "      <td>107.253460</td>\n",
              "    </tr>\n",
              "    <tr>\n",
              "      <th>5</th>\n",
              "      <td>Linear Regression (Forests)</td>\n",
              "      <td>-0.809725</td>\n",
              "      <td>13.748134</td>\n",
              "      <td>9.196593</td>\n",
              "      <td>140.836709</td>\n",
              "    </tr>\n",
              "    <tr>\n",
              "      <th>6</th>\n",
              "      <td>Lasso (Forests)</td>\n",
              "      <td>0.335111</td>\n",
              "      <td>10.278894</td>\n",
              "      <td>8.094631</td>\n",
              "      <td>39.441593</td>\n",
              "    </tr>\n",
              "    <tr>\n",
              "      <th>7</th>\n",
              "      <td>ElasticNet (Forests)</td>\n",
              "      <td>0.317713</td>\n",
              "      <td>10.416875</td>\n",
              "      <td>8.230083</td>\n",
              "      <td>38.736773</td>\n",
              "    </tr>\n",
              "    <tr>\n",
              "      <th>8</th>\n",
              "      <td>Decision Tree Regressor (Forests)</td>\n",
              "      <td>-0.089699</td>\n",
              "      <td>13.242441</td>\n",
              "      <td>10.149744</td>\n",
              "      <td>55.000000</td>\n",
              "    </tr>\n",
              "    <tr>\n",
              "      <th>9</th>\n",
              "      <td>Stacking Regressor (Forests)</td>\n",
              "      <td>0.356857</td>\n",
              "      <td>10.185403</td>\n",
              "      <td>7.921508</td>\n",
              "      <td>41.406000</td>\n",
              "    </tr>\n",
              "  </tbody>\n",
              "</table>\n",
              "</div>"
            ],
            "text/plain": [
              "                          Estimators        R2  ...  Mean Absolute Error   Max Error\n",
              "0        Linear Regression (RidgeCV) -0.809725  ...             9.196593  140.836709\n",
              "1                    Lasso (RidgeCV)  0.335111  ...             8.094631   39.441593\n",
              "2               ElasticNet (RidgeCV)  0.317713  ...             8.230083   38.736773\n",
              "3  Decision Tree Regressor (RidgeCV) -0.072956  ...            10.038388   53.400000\n",
              "4       Stacking Regressor (RidgeCV) -0.121943  ...             8.457285  107.253460\n",
              "5        Linear Regression (Forests) -0.809725  ...             9.196593  140.836709\n",
              "6                    Lasso (Forests)  0.335111  ...             8.094631   39.441593\n",
              "7               ElasticNet (Forests)  0.317713  ...             8.230083   38.736773\n",
              "8  Decision Tree Regressor (Forests) -0.089699  ...            10.149744   55.000000\n",
              "9       Stacking Regressor (Forests)  0.356857  ...             7.921508   41.406000\n",
              "\n",
              "[10 rows x 5 columns]"
            ]
          },
          "metadata": {
            "tags": []
          },
          "execution_count": 14
        }
      ]
    },
    {
      "cell_type": "code",
      "metadata": {
        "colab": {
          "base_uri": "https://localhost:8080/",
          "height": 266
        },
        "id": "mS9I1QOfoNM9",
        "outputId": "c2ea70ac-10ec-430c-9b51-4a65339cac09"
      },
      "source": [
        "new_index = [0, 1, 2, 3, 8, 4, 9]\n",
        "\n",
        "#Remove repeated values\n",
        "df_scores.drop(index=[5, 6, 7], axis=0, inplace=True)\n",
        "#Rename rows\n",
        "df_scores['Estimators'].replace(['Linear Regression (RidgeCV)','Lasso (RidgeCV)','ElasticNet (RidgeCV)'], ['Linear Regression','Lasso','ElasticNet'], inplace=True)\n",
        "#Reorganize the dataset\n",
        "df_scores = df_scores.reindex(new_index)\n",
        "#Rename the numbers of the rows\n",
        "df_scores.rename(index={8: 4, 4: 5, 9: 6}, inplace=True)\n",
        "df_scores"
      ],
      "execution_count": null,
      "outputs": [
        {
          "output_type": "execute_result",
          "data": {
            "text/html": [
              "<div>\n",
              "<style scoped>\n",
              "    .dataframe tbody tr th:only-of-type {\n",
              "        vertical-align: middle;\n",
              "    }\n",
              "\n",
              "    .dataframe tbody tr th {\n",
              "        vertical-align: top;\n",
              "    }\n",
              "\n",
              "    .dataframe thead th {\n",
              "        text-align: right;\n",
              "    }\n",
              "</style>\n",
              "<table border=\"1\" class=\"dataframe\">\n",
              "  <thead>\n",
              "    <tr style=\"text-align: right;\">\n",
              "      <th></th>\n",
              "      <th>Estimators</th>\n",
              "      <th>R2</th>\n",
              "      <th>Root Mean Squared Error</th>\n",
              "      <th>Mean Absolute Error</th>\n",
              "      <th>Max Error</th>\n",
              "    </tr>\n",
              "  </thead>\n",
              "  <tbody>\n",
              "    <tr>\n",
              "      <th>0</th>\n",
              "      <td>Linear Regression</td>\n",
              "      <td>-0.809725</td>\n",
              "      <td>13.748134</td>\n",
              "      <td>9.196593</td>\n",
              "      <td>140.836709</td>\n",
              "    </tr>\n",
              "    <tr>\n",
              "      <th>1</th>\n",
              "      <td>Lasso</td>\n",
              "      <td>0.335111</td>\n",
              "      <td>10.278894</td>\n",
              "      <td>8.094631</td>\n",
              "      <td>39.441593</td>\n",
              "    </tr>\n",
              "    <tr>\n",
              "      <th>2</th>\n",
              "      <td>ElasticNet</td>\n",
              "      <td>0.317713</td>\n",
              "      <td>10.416875</td>\n",
              "      <td>8.230083</td>\n",
              "      <td>38.736773</td>\n",
              "    </tr>\n",
              "    <tr>\n",
              "      <th>3</th>\n",
              "      <td>Decision Tree Regressor (RidgeCV)</td>\n",
              "      <td>-0.072956</td>\n",
              "      <td>13.120767</td>\n",
              "      <td>10.038388</td>\n",
              "      <td>53.400000</td>\n",
              "    </tr>\n",
              "    <tr>\n",
              "      <th>4</th>\n",
              "      <td>Decision Tree Regressor (Forests)</td>\n",
              "      <td>-0.089699</td>\n",
              "      <td>13.242441</td>\n",
              "      <td>10.149744</td>\n",
              "      <td>55.000000</td>\n",
              "    </tr>\n",
              "    <tr>\n",
              "      <th>5</th>\n",
              "      <td>Stacking Regressor (RidgeCV)</td>\n",
              "      <td>-0.121943</td>\n",
              "      <td>11.996236</td>\n",
              "      <td>8.457285</td>\n",
              "      <td>107.253460</td>\n",
              "    </tr>\n",
              "    <tr>\n",
              "      <th>6</th>\n",
              "      <td>Stacking Regressor (Forests)</td>\n",
              "      <td>0.356857</td>\n",
              "      <td>10.185403</td>\n",
              "      <td>7.921508</td>\n",
              "      <td>41.406000</td>\n",
              "    </tr>\n",
              "  </tbody>\n",
              "</table>\n",
              "</div>"
            ],
            "text/plain": [
              "                          Estimators        R2  ...  Mean Absolute Error   Max Error\n",
              "0                  Linear Regression -0.809725  ...             9.196593  140.836709\n",
              "1                              Lasso  0.335111  ...             8.094631   39.441593\n",
              "2                         ElasticNet  0.317713  ...             8.230083   38.736773\n",
              "3  Decision Tree Regressor (RidgeCV) -0.072956  ...            10.038388   53.400000\n",
              "4  Decision Tree Regressor (Forests) -0.089699  ...            10.149744   55.000000\n",
              "5       Stacking Regressor (RidgeCV) -0.121943  ...             8.457285  107.253460\n",
              "6       Stacking Regressor (Forests)  0.356857  ...             7.921508   41.406000\n",
              "\n",
              "[7 rows x 5 columns]"
            ]
          },
          "metadata": {
            "tags": []
          },
          "execution_count": 15
        }
      ]
    },
    {
      "cell_type": "code",
      "metadata": {
        "colab": {
          "base_uri": "https://localhost:8080/"
        },
        "id": "sq2koeL83a0j",
        "outputId": "4f1d43ca-fe6b-4c4d-b2b1-7c9cb7307488"
      },
      "source": [
        "#Unite y_pred_total_Ridge with y_pred_total_Forest\n",
        "#Verify if there is repeated data and remove\n",
        "#Reorganize the values according to the metrics dataset\n",
        "y_pred_total = []\n",
        "y_pred_total.append(y_pred_total_Ridge[0])\n",
        "y_pred_total.append(y_pred_total_Ridge[1])\n",
        "y_pred_total.append(y_pred_total_Ridge[2])\n",
        "y_pred_total.append(y_pred_total_Ridge[3])\n",
        "y_pred_total.append(y_pred_total_Forest[3])\n",
        "y_pred_total.append(y_pred_total_Ridge[4])\n",
        "y_pred_total.append(y_pred_total_Forest[4])\n",
        "print(y_pred_total)"
      ],
      "execution_count": null,
      "outputs": [
        {
          "output_type": "stream",
          "text": [
            "[array([625.40498223, 312.60071888, 294.04541326, ...,  71.07182903,\n",
            "        62.06184147,  71.57522676]), array([79.78598017, 85.39750262, 83.42739886, ..., 70.06405035,\n",
            "       62.40770756, 70.30966175]), array([79.72084365, 85.32195528, 83.68766585, ..., 69.19061221,\n",
            "       63.04680528, 70.28809224]), array([85., 90., 78., ..., 62., 33., 61.]), array([87., 91., 76., ..., 62., 41., 61.]), array([455.45380876, 241.64647173, 226.3878585 , ...,  70.01960538,\n",
            "        56.58836645,  72.22350656]), array([83.97, 88.74, 81.99, ..., 67.59, 65.36, 64.68])]\n"
          ],
          "name": "stdout"
        }
      ]
    },
    {
      "cell_type": "code",
      "metadata": {
        "colab": {
          "base_uri": "https://localhost:8080/",
          "height": 787
        },
        "id": "Mw3F3K23rFjO",
        "outputId": "8f20b50e-9d11-4100-a0d7-f830004aab5e"
      },
      "source": [
        "import matplotlib.pyplot as plt\n",
        "graph_names = ['null', 'Linear Regression', 'Lasso', 'ElasticNet', 'Decision Tree Regressor (RidgeCV)', 'Decision Tree Regressor (Forests)', 'Ridge CV', 'Random Forests']\n",
        "\n",
        "plt.figure(figsize=(9, 12))\n",
        "\n",
        "i=1\n",
        "for value in y_pred_total:\n",
        "  plt.subplot(4,2,i)\n",
        "  plt.scatter(y, value)\n",
        "  plt.title(graph_names[i])\n",
        "  i+=1\n",
        "\n",
        "plt.suptitle('Scatter Plots')\n",
        "plt.subplots_adjust(top=0.9, hspace = 0.5)\n",
        "plt.show()"
      ],
      "execution_count": null,
      "outputs": [
        {
          "output_type": "display_data",
          "data": {
            "image/png": "[encoded data removed]",
            "text/plain": [
              "<Figure size 648x864 with 7 Axes>"
            ]
          },
          "metadata": {
            "tags": [],
            "needs_background": "light"
          }
        }
      ]
    },
    {
      "cell_type": "code",
      "metadata": {
        "colab": {
          "base_uri": "https://localhost:8080/",
          "height": 1000
        },
        "id": "n0maT0EQhHEd",
        "outputId": "3ed7f417-fa72-453f-e038-5282e962d5e6"
      },
      "source": [
        "graph_names = ['null', 'Linear Regression', 'Lasso', 'ElasticNet', 'Decision Tree Regressor (RidgeCV)', 'Decision Tree Regressor (Forests)', 'Ridge CV', 'Random Forests']\n",
        "\n",
        "i=1\n",
        "for value in y_pred_total:\n",
        "  plt.scatter(y, value, c='k')\n",
        "  plt.title(graph_names[i])\n",
        "  #plt.savefig('drive/MyDrive/Mestrado UFF/Inteligência Artificial/Trabalho_Final/Graphs/Scatter' + graph_names[i] +'.png')\n",
        "  plt.show()\n",
        "  i+=1"
      ],
      "execution_count": null,
      "outputs": [
        {
          "output_type": "display_data",
          "data": {
            "image/png": "[encoded data removed]",
            "text/plain": [
              "<Figure size 432x288 with 1 Axes>"
            ]
          },
          "metadata": {
            "tags": [],
            "needs_background": "light"
          }
        },
        {
          "output_type": "display_data",
          "data": {
            "image/png": "[encoded data removed]",
            "text/plain": [
              "<Figure size 432x288 with 1 Axes>"
            ]
          },
          "metadata": {
            "tags": [],
            "needs_background": "light"
          }
        },
        {
          "output_type": "display_data",
          "data": {
            "image/png": "[encoded data removed]",
            "text/plain": [
              "<Figure size 432x288 with 1 Axes>"
            ]
          },
          "metadata": {
            "tags": [],
            "needs_background": "light"
          }
        },
        {
          "output_type": "display_data",
          "data": {
            "image/png": "[encoded data removed]",
            "text/plain": [
              "<Figure size 432x288 with 1 Axes>"
            ]
          },
          "metadata": {
            "tags": [],
            "needs_background": "light"
          }
        },
        {
          "output_type": "display_data",
          "data": {
            "image/png": "[encoded data removed]",
            "text/plain": [
              "<Figure size 432x288 with 1 Axes>"
            ]
          },
          "metadata": {
            "tags": [],
            "needs_background": "light"
          }
        },
        {
          "output_type": "display_data",
          "data": {
            "image/png": "[encoded data removed]",
            "text/plain": [
              "<Figure size 432x288 with 1 Axes>"
            ]
          },
          "metadata": {
            "tags": [],
            "needs_background": "light"
          }
        },
        {
          "output_type": "display_data",
          "data": {
            "image/png": "[encoded data removed]",
            "text/plain": [
              "<Figure size 432x288 with 1 Axes>"
            ]
          },
          "metadata": {
            "tags": [],
            "needs_background": "light"
          }
        }
      ]
    },
    {
      "cell_type": "code",
      "metadata": {
        "id": "z0J7HnYO0n5d"
      },
      "source": [
        "import seaborn as sns\n",
        "fig, axes = plt.subplots(2, 2, figsize=(20, 16))\n",
        "\n",
        "fig.suptitle('Barplot with R2, RMSE, MAE and Max Error')\n",
        "axes[0, 0].set_title('R2')\n",
        "axes[0, 1].set_title('RMSE')\n",
        "axes[1, 0].set_title('MAE')\n",
        "axes[1, 1].set_title('Max Error')\n",
        "\n",
        "sns.barplot(ax=axes[0, 0], data=df_scores, y='Estimators', x='R2', orient='h', palette='Greys')\n",
        "sns.barplot(ax=axes[0, 1], data=df_scores, y='Estimators', x='Root Mean Squared Error', orient='h', palette='Greys')\n",
        "sns.barplot(ax=axes[1, 0], data=df_scores, y='Estimators', x='Mean Absolute Error', orient='h', palette='Greys')\n",
        "sns.barplot(ax=axes[1, 1], data=df_scores, y='Estimators', x='Max Error', orient='h', palette='Greys')"
      ],
      "execution_count": null,
      "outputs": []
    },
    {
      "cell_type": "code",
      "metadata": {
        "id": "WJRnwrFPa96S"
      },
      "source": [
        "estimators_names_test = ['Linear Regression', 'Lasso', 'ElasticNet', 'Decision Tree (RidgeCV)', 'RidgeCV', 'Decision Tree (Forests)', 'Random Forests']\n",
        "df_scores_test = df_scores.copy()\n",
        "df_scores_test['Estimators'].replace(['Linear Regression', 'Lasso', 'ElasticNet', 'Decision Tree Regressor (RidgeCV)', 'Decision Tree Regressor (Forests)', 'Stacking Regressor (RidgeCV)', 'Stacking Regressor (Forests)'], ['(1)', '(2)', '(3)', '(4)', '(5)', '(6)', '(7)'], inplace=True)\n",
        "df_scores_test"
      ],
      "execution_count": null,
      "outputs": []
    },
    {
      "cell_type": "code",
      "metadata": {
        "colab": {
          "base_uri": "https://localhost:8080/",
          "height": 295
        },
        "id": "R2cppBZu0UWk",
        "outputId": "943a9abf-cfe2-4ca7-b604-beab1b1186e7"
      },
      "source": [
        "import seaborn as sns\n",
        "\n",
        "#plt.title('R2')\n",
        "#plt.title('RMSE')\n",
        "#plt.title('MAE')\n",
        "plt.title('Max Error')\n",
        "\n",
        "#sns.barplot(data=df_scores_test, x='Estimators', y='R2', palette='Greys')\n",
        "#sns.barplot(data=df_scores_test, x='Estimators', y='Root Mean Squared Error', palette='Greys')\n",
        "#sns.barplot(data=df_scores_test, x='Estimators', y='Mean Absolute Error', palette='Greys')\n",
        "sns.barplot(data=df_scores_test, x='Estimators', y='Max Error', palette='Greys')\n",
        "\n",
        "#plt.savefig('drive/MyDrive/Mestrado UFF/Inteligência Artificial/Trabalho_Final/Graphs/MaxError.png')"
      ],
      "execution_count": null,
      "outputs": [
        {
          "output_type": "display_data",
          "data": {
            "image/png": "[encoded data removed]",
            "text/plain": [
              "<Figure size 432x288 with 1 Axes>"
            ]
          },
          "metadata": {
            "tags": [],
            "needs_background": "light"
          }
        }
      ]
    },
    {
      "cell_type": "markdown",
      "metadata": {
        "id": "j9E1q90X4htu"
      },
      "source": [
        "# Try with new parameters\n",
        "\n"
      ]
    },
    {
      "cell_type": "code",
      "metadata": {
        "id": "mq1nU_ky4ekD"
      },
      "source": [
        "#Create the pipelines\n",
        "linearReg_pipeline_2 = make_pipeline(LinearRegression(normalize=True))\n",
        "lasso_pipeline_2 = make_pipeline(Lasso(alpha=0.1))\n",
        "elastic_pipeline_2 = make_pipeline(ElasticNet(l1_ratio=1))\n",
        "decTree_pipeline_2 = make_pipeline(DecisionTreeRegressor(criterion='mae'))\n",
        "\n",
        "estimators = [('Linear Regression', linearReg_pipeline),\n",
        "              ('Lasso', lasso_pipeline),\n",
        "              ('ElasticNet', elastic_pipeline),\n",
        "              ('Decision Tree Regressor', decTree_pipeline)]\n",
        "\n",
        "\n",
        "#Stack the regressors using an ensemble method\n",
        "stacking_regressor_Ridge_2 = StackingRegressor(estimators=estimators, final_estimator=RidgeCV())\n",
        "stacking_regressor_Forest_2 = StackingRegressor(estimators=estimators, final_estimator=RandomForestRegressor())"
      ],
      "execution_count": null,
      "outputs": []
    },
    {
      "cell_type": "code",
      "metadata": {
        "id": "VtHRVEsoxdP8"
      },
      "source": [
        "#Divide the dataset in two sets: one for training and one for testing\n",
        "from sklearn.model_selection import train_test_split\n",
        "\n",
        "X_train, X_test, y_train, y_test = train_test_split(df.drop(['Critic_Score'], axis=1), df['Critic_Score'], test_size=0.3, random_state=42)\n",
        "#y_train and y_test have the 'Critic_Score' column"
      ],
      "execution_count": null,
      "outputs": []
    },
    {
      "cell_type": "code",
      "metadata": {
        "colab": {
          "base_uri": "https://localhost:8080/"
        },
        "id": "XhsrKcZy4yot",
        "outputId": "e46389b9-355a-4799-e3f0-0983afff0233"
      },
      "source": [
        "scores_Ridge_2 = []\n",
        "y_pred_total_Ridge_2 = []\n",
        "\n",
        "for (name, est) in (estimators + [('Stacking Regressor',stacking_regressor_Ridge)]):\n",
        "    score = cross_validate(est, X_test, y_test, scoring=scoring, n_jobs=-1, verbose=0)\n",
        "    y_pred = cross_val_predict(est, X_test, y_test, n_jobs=-1, verbose=0)\n",
        "    scores_Ridge_2.append(score)\n",
        "    y_pred_total_Ridge_2.append(y_pred)\n",
        "\n",
        "print(scores_Ridge_2)"
      ],
      "execution_count": null,
      "outputs": [
        {
          "output_type": "stream",
          "text": [
            "[{'fit_time': array([0.00771642, 0.00725722, 0.00574923, 0.00632048, 0.00642252]), 'score_time': array([0.00454354, 0.00397706, 0.00324726, 0.00354385, 0.00362444]), 'test_r2': array([0.46815417, 0.51980625, 0.45366281, 0.54693425, 0.50554648]), 'test_neg_root_mean_squared_error': array([-10.30821733,  -9.8642879 ,  -9.98019014,  -9.72330942,\n",
            "        -9.64156313]), 'test_neg_mean_absolute_error': array([-7.98545179, -7.70186006, -7.86137427, -7.48248622, -7.58449902]), 'test_max_error': array([-39.51140918, -51.88727559, -33.36517633, -34.06831148,\n",
            "       -35.73040618])}, {'fit_time': array([0.00754428, 0.00804925, 0.00667596, 0.00732136, 0.00620675]), 'score_time': array([0.00349736, 0.00355053, 0.00369787, 0.003721  , 0.00225759]), 'test_r2': array([0.45853746, 0.52951232, 0.43928468, 0.53908139, 0.4969967 ]), 'test_neg_root_mean_squared_error': array([-10.40099521,  -9.76408647, -10.11066323,  -9.80721309,\n",
            "        -9.72456376]), 'test_neg_mean_absolute_error': array([-8.0689607 , -7.7671922 , -7.98329143, -7.50539433, -7.70067277]), 'test_max_error': array([-38.85702465, -35.8198686 , -32.67427027, -34.71750564,\n",
            "       -35.1719042 ])}, {'fit_time': array([0.00696611, 0.00863743, 0.00706792, 0.00749683, 0.00485969]), 'score_time': array([0.00363469, 0.00359893, 0.00360537, 0.00383282, 0.00222921]), 'test_r2': array([0.45539215, 0.51352733, 0.43208945, 0.51742475, 0.47161349]), 'test_neg_root_mean_squared_error': array([-10.43116075,  -9.92857018, -10.17532765, -10.03496843,\n",
            "        -9.96691075]), 'test_neg_mean_absolute_error': array([-8.10495286, -7.94670277, -8.0778764 , -7.67695281, -7.91605676]), 'test_max_error': array([-36.79910323, -35.57961412, -32.48893006, -37.06608029,\n",
            "       -35.61792065])}, {'fit_time': array([0.02934051, 0.02832365, 0.02769804, 0.02753901, 0.02029586]), 'score_time': array([0.00383425, 0.00410295, 0.00363684, 0.00394964, 0.0026381 ]), 'test_r2': array([0.00835422, 0.25373537, 0.07216492, 0.14741397, 0.08725056]), 'test_neg_root_mean_squared_error': array([-14.0756666 , -12.29713431, -13.00600237, -13.33836498,\n",
            "       -13.09967431]), 'test_neg_mean_absolute_error': array([-10.22195122,  -8.98536585,  -9.71707317,  -9.95110024,\n",
            "        -9.65525672]), 'test_max_error': array([-57., -48., -44., -50., -46.])}, {'fit_time': array([0.31044126, 0.30229187, 0.31818628, 0.31219435, 0.19881129]), 'score_time': array([0.00920987, 0.01184154, 0.00912309, 0.00879574, 0.00535703]), 'test_r2': array([0.47431204, 0.55444382, 0.48487193, 0.56360851, 0.5258417 ]), 'test_neg_root_mean_squared_error': array([-10.24836777,  -9.50186216,  -9.69094302,  -9.54270778,\n",
            "        -9.44161724]), 'test_neg_mean_absolute_error': array([-7.93351734, -7.39995202, -7.64226927, -7.31179073, -7.42726724]), 'test_max_error': array([-40.71630092, -43.02503412, -32.66170321, -36.70152799,\n",
            "       -36.48215396])}]\n",
            "ypred 2048\n"
          ],
          "name": "stdout"
        }
      ]
    },
    {
      "cell_type": "code",
      "metadata": {
        "colab": {
          "base_uri": "https://localhost:8080/"
        },
        "id": "FmF0LTMb416O",
        "outputId": "34f80327-318d-4759-94a2-d09d98254283"
      },
      "source": [
        "scores_Forest_2 = []\n",
        "y_pred_total_Forest_2 = []\n",
        "\n",
        "for (name, est) in (estimators + [('Stacking Regressor',stacking_regressor_Forest)]):\n",
        "    score = cross_validate(est, X_test, y_test, scoring=scoring, n_jobs=-1, verbose=0)\n",
        "    y_pred = cross_val_predict(est, X_test, y_test, n_jobs=-1, verbose=0)\n",
        "    scores_Forest_2.append(score)\n",
        "    y_pred_total_Forest_2.append(y_pred)\n",
        "\n",
        "print(scores_Forest_2)"
      ],
      "execution_count": null,
      "outputs": [
        {
          "output_type": "stream",
          "text": [
            "[{'fit_time': array([0.00827599, 0.0065105 , 0.00635433, 0.01184678, 0.00571704]), 'score_time': array([0.00820971, 0.00395322, 0.00381589, 0.00449991, 0.00231194]), 'test_r2': array([0.46815417, 0.51980625, 0.45366281, 0.54693425, 0.50554648]), 'test_neg_root_mean_squared_error': array([-10.30821733,  -9.8642879 ,  -9.98019014,  -9.72330942,\n",
            "        -9.64156313]), 'test_neg_mean_absolute_error': array([-7.98545179, -7.70186006, -7.86137427, -7.48248622, -7.58449902]), 'test_max_error': array([-39.51140918, -51.88727559, -33.36517633, -34.06831148,\n",
            "       -35.73040618])}, {'fit_time': array([0.00738406, 0.00747371, 0.00844979, 0.00752759, 0.00607157]), 'score_time': array([0.00359583, 0.00354886, 0.00416207, 0.00376844, 0.00224733]), 'test_r2': array([0.45853746, 0.52951232, 0.43928468, 0.53908139, 0.4969967 ]), 'test_neg_root_mean_squared_error': array([-10.40099521,  -9.76408647, -10.11066323,  -9.80721309,\n",
            "        -9.72456376]), 'test_neg_mean_absolute_error': array([-8.0689607 , -7.7671922 , -7.98329143, -7.50539433, -7.70067277]), 'test_max_error': array([-38.85702465, -35.8198686 , -32.67427027, -34.71750564,\n",
            "       -35.1719042 ])}, {'fit_time': array([0.00801301, 0.00695348, 0.00715208, 0.00729775, 0.00701165]), 'score_time': array([0.00387883, 0.00408602, 0.00376987, 0.00371361, 0.00254536]), 'test_r2': array([0.45539215, 0.51352733, 0.43208945, 0.51742475, 0.47161349]), 'test_neg_root_mean_squared_error': array([-10.43116075,  -9.92857018, -10.17532765, -10.03496843,\n",
            "        -9.96691075]), 'test_neg_mean_absolute_error': array([-8.10495286, -7.94670277, -8.0778764 , -7.67695281, -7.91605676]), 'test_max_error': array([-36.79910323, -35.57961412, -32.48893006, -37.06608029,\n",
            "       -35.61792065])}, {'fit_time': array([0.02984786, 0.03460407, 0.02783847, 0.02976775, 0.02154589]), 'score_time': array([0.00406742, 0.00405049, 0.00374317, 0.00385523, 0.00310397]), 'test_r2': array([-0.01454747,  0.28353781,  0.03961564,  0.1034759 ,  0.08493569]), 'test_neg_root_mean_squared_error': array([-14.23727502, -12.0490866 , -13.23216701, -13.67774413,\n",
            "       -13.11627519]), 'test_neg_mean_absolute_error': array([-10.58292683,  -8.89268293,  -9.77317073, -10.02933985,\n",
            "        -9.81173594]), 'test_max_error': array([-49., -48., -46., -57., -44.])}, {'fit_time': array([1.23233128, 1.22439361, 1.2013557 , 1.18916655, 0.77326822]), 'score_time': array([0.03141165, 0.03095627, 0.03034282, 0.03029442, 0.02062964]), 'test_r2': array([0.38787529, 0.48797794, 0.39596239, 0.52082661, 0.46763244]), 'test_neg_root_mean_squared_error': array([-11.05886721, -10.18595665, -10.49398461,  -9.99953573,\n",
            "       -10.00438748]), 'test_neg_mean_absolute_error': array([-8.5137561 , -7.90934146, -8.05002439, -7.64723716, -7.84427873]), 'test_max_error': array([-42.04, -40.69, -39.91, -32.6 , -39.95])}]\n"
          ],
          "name": "stdout"
        }
      ]
    },
    {
      "cell_type": "code",
      "metadata": {
        "id": "iKLPfvPk44l1"
      },
      "source": [
        "scores_2 = scores_Ridge + scores_Forest\n",
        "r2_scores_2 = []\n",
        "rmse_scores_2 = []\n",
        "mae_scores_2 = []\n",
        "max_scores_2 = []\n",
        "\n",
        "for item in scores:\n",
        "  #Each score goes to their own list\n",
        "  r2_scores_2.append(item['test_r2'].mean())\n",
        "  rmse_scores_2.append(-item['test_neg_root_mean_squared_error'].mean())\n",
        "  mae_scores_2.append(-item['test_neg_mean_absolute_error'].mean())\n",
        "  max_scores_2.append(abs(item['test_max_error'].mean()))"
      ],
      "execution_count": null,
      "outputs": []
    },
    {
      "cell_type": "code",
      "metadata": {
        "colab": {
          "base_uri": "https://localhost:8080/",
          "height": 359
        },
        "id": "9Po_ApEJ48L8",
        "outputId": "08380b5c-58f9-4de5-e474-28811e8c00a0"
      },
      "source": [
        "#Put the metrics into a new dataset\n",
        "dict_aux = {'Estimators': estimators_names, 'R2': r2_scores_2, 'Root Mean Squared Error': rmse_scores_2, 'Mean Absolute Error': mae_scores_2, 'Max Error': max_scores_2}\n",
        "df_scores_2 = pd.DataFrame(dict_aux)\n",
        "df_scores_2"
      ],
      "execution_count": null,
      "outputs": [
        {
          "output_type": "execute_result",
          "data": {
            "text/html": [
              "<div>\n",
              "<style scoped>\n",
              "    .dataframe tbody tr th:only-of-type {\n",
              "        vertical-align: middle;\n",
              "    }\n",
              "\n",
              "    .dataframe tbody tr th {\n",
              "        vertical-align: top;\n",
              "    }\n",
              "\n",
              "    .dataframe thead th {\n",
              "        text-align: right;\n",
              "    }\n",
              "</style>\n",
              "<table border=\"1\" class=\"dataframe\">\n",
              "  <thead>\n",
              "    <tr style=\"text-align: right;\">\n",
              "      <th></th>\n",
              "      <th>Estimators</th>\n",
              "      <th>R2</th>\n",
              "      <th>Root Mean Squared Error</th>\n",
              "      <th>Mean Absolute Error</th>\n",
              "      <th>Max Error</th>\n",
              "    </tr>\n",
              "  </thead>\n",
              "  <tbody>\n",
              "    <tr>\n",
              "      <th>0</th>\n",
              "      <td>Linear Regression (RidgeCV)</td>\n",
              "      <td>-0.809725</td>\n",
              "      <td>13.748134</td>\n",
              "      <td>9.196593</td>\n",
              "      <td>140.836709</td>\n",
              "    </tr>\n",
              "    <tr>\n",
              "      <th>1</th>\n",
              "      <td>Lasso (RidgeCV)</td>\n",
              "      <td>0.335111</td>\n",
              "      <td>10.278894</td>\n",
              "      <td>8.094631</td>\n",
              "      <td>39.441593</td>\n",
              "    </tr>\n",
              "    <tr>\n",
              "      <th>2</th>\n",
              "      <td>ElasticNet (RidgeCV)</td>\n",
              "      <td>0.317713</td>\n",
              "      <td>10.416875</td>\n",
              "      <td>8.230083</td>\n",
              "      <td>38.736773</td>\n",
              "    </tr>\n",
              "    <tr>\n",
              "      <th>3</th>\n",
              "      <td>Decision Tree Regressor (RidgeCV)</td>\n",
              "      <td>-0.084358</td>\n",
              "      <td>13.181706</td>\n",
              "      <td>10.095092</td>\n",
              "      <td>53.400000</td>\n",
              "    </tr>\n",
              "    <tr>\n",
              "      <th>4</th>\n",
              "      <td>Stacking Regressor (RidgeCV)</td>\n",
              "      <td>-0.139706</td>\n",
              "      <td>12.049894</td>\n",
              "      <td>8.476259</td>\n",
              "      <td>107.778824</td>\n",
              "    </tr>\n",
              "    <tr>\n",
              "      <th>5</th>\n",
              "      <td>Linear Regression (Forests)</td>\n",
              "      <td>-0.809725</td>\n",
              "      <td>13.748134</td>\n",
              "      <td>9.196593</td>\n",
              "      <td>140.836709</td>\n",
              "    </tr>\n",
              "    <tr>\n",
              "      <th>6</th>\n",
              "      <td>Lasso (Forests)</td>\n",
              "      <td>0.335111</td>\n",
              "      <td>10.278894</td>\n",
              "      <td>8.094631</td>\n",
              "      <td>39.441593</td>\n",
              "    </tr>\n",
              "    <tr>\n",
              "      <th>7</th>\n",
              "      <td>ElasticNet (Forests)</td>\n",
              "      <td>0.317713</td>\n",
              "      <td>10.416875</td>\n",
              "      <td>8.230083</td>\n",
              "      <td>38.736773</td>\n",
              "    </tr>\n",
              "    <tr>\n",
              "      <th>8</th>\n",
              "      <td>Decision Tree Regressor (Forests)</td>\n",
              "      <td>-0.090132</td>\n",
              "      <td>13.210619</td>\n",
              "      <td>10.147692</td>\n",
              "      <td>55.800000</td>\n",
              "    </tr>\n",
              "    <tr>\n",
              "      <th>9</th>\n",
              "      <td>Stacking Regressor (Forests)</td>\n",
              "      <td>0.355064</td>\n",
              "      <td>10.189389</td>\n",
              "      <td>7.881776</td>\n",
              "      <td>43.036000</td>\n",
              "    </tr>\n",
              "  </tbody>\n",
              "</table>\n",
              "</div>"
            ],
            "text/plain": [
              "                          Estimators        R2  ...  Mean Absolute Error   Max Error\n",
              "0        Linear Regression (RidgeCV) -0.809725  ...             9.196593  140.836709\n",
              "1                    Lasso (RidgeCV)  0.335111  ...             8.094631   39.441593\n",
              "2               ElasticNet (RidgeCV)  0.317713  ...             8.230083   38.736773\n",
              "3  Decision Tree Regressor (RidgeCV) -0.084358  ...            10.095092   53.400000\n",
              "4       Stacking Regressor (RidgeCV) -0.139706  ...             8.476259  107.778824\n",
              "5        Linear Regression (Forests) -0.809725  ...             9.196593  140.836709\n",
              "6                    Lasso (Forests)  0.335111  ...             8.094631   39.441593\n",
              "7               ElasticNet (Forests)  0.317713  ...             8.230083   38.736773\n",
              "8  Decision Tree Regressor (Forests) -0.090132  ...            10.147692   55.800000\n",
              "9       Stacking Regressor (Forests)  0.355064  ...             7.881776   43.036000\n",
              "\n",
              "[10 rows x 5 columns]"
            ]
          },
          "metadata": {
            "tags": []
          },
          "execution_count": 49
        }
      ]
    },
    {
      "cell_type": "code",
      "metadata": {
        "colab": {
          "base_uri": "https://localhost:8080/",
          "height": 266
        },
        "id": "apC1UL8S5CCF",
        "outputId": "9061dd4a-0333-4c91-d828-11daa26f93d1"
      },
      "source": [
        "new_index = [0, 1, 2, 3, 8, 4, 9]\n",
        "\n",
        "#Remove repeated values\n",
        "df_scores_2.drop(index=[5, 6, 7], axis=0, inplace=True)\n",
        "#Rename rows\n",
        "df_scores_2['Estimators'].replace(['Linear Regression (RidgeCV)','Lasso (RidgeCV)','ElasticNet (RidgeCV)'], ['Linear Regression','Lasso','ElasticNet'], inplace=True)\n",
        "#Reorganize the dataset\n",
        "df_scores_2 = df_scores_2.reindex(new_index)\n",
        "#Rename the numbers of the rows\n",
        "df_scores_2.rename(index={8: 4, 4: 5, 9: 6}, inplace=True)\n",
        "df_scores_2"
      ],
      "execution_count": null,
      "outputs": [
        {
          "output_type": "execute_result",
          "data": {
            "text/html": [
              "<div>\n",
              "<style scoped>\n",
              "    .dataframe tbody tr th:only-of-type {\n",
              "        vertical-align: middle;\n",
              "    }\n",
              "\n",
              "    .dataframe tbody tr th {\n",
              "        vertical-align: top;\n",
              "    }\n",
              "\n",
              "    .dataframe thead th {\n",
              "        text-align: right;\n",
              "    }\n",
              "</style>\n",
              "<table border=\"1\" class=\"dataframe\">\n",
              "  <thead>\n",
              "    <tr style=\"text-align: right;\">\n",
              "      <th></th>\n",
              "      <th>Estimators</th>\n",
              "      <th>R2</th>\n",
              "      <th>Root Mean Squared Error</th>\n",
              "      <th>Mean Absolute Error</th>\n",
              "      <th>Max Error</th>\n",
              "    </tr>\n",
              "  </thead>\n",
              "  <tbody>\n",
              "    <tr>\n",
              "      <th>0</th>\n",
              "      <td>Linear Regression</td>\n",
              "      <td>-0.809725</td>\n",
              "      <td>13.748134</td>\n",
              "      <td>9.196593</td>\n",
              "      <td>140.836709</td>\n",
              "    </tr>\n",
              "    <tr>\n",
              "      <th>1</th>\n",
              "      <td>Lasso</td>\n",
              "      <td>0.335111</td>\n",
              "      <td>10.278894</td>\n",
              "      <td>8.094631</td>\n",
              "      <td>39.441593</td>\n",
              "    </tr>\n",
              "    <tr>\n",
              "      <th>2</th>\n",
              "      <td>ElasticNet</td>\n",
              "      <td>0.317713</td>\n",
              "      <td>10.416875</td>\n",
              "      <td>8.230083</td>\n",
              "      <td>38.736773</td>\n",
              "    </tr>\n",
              "    <tr>\n",
              "      <th>3</th>\n",
              "      <td>Decision Tree Regressor (RidgeCV)</td>\n",
              "      <td>-0.084358</td>\n",
              "      <td>13.181706</td>\n",
              "      <td>10.095092</td>\n",
              "      <td>53.400000</td>\n",
              "    </tr>\n",
              "    <tr>\n",
              "      <th>4</th>\n",
              "      <td>Decision Tree Regressor (Forests)</td>\n",
              "      <td>-0.090132</td>\n",
              "      <td>13.210619</td>\n",
              "      <td>10.147692</td>\n",
              "      <td>55.800000</td>\n",
              "    </tr>\n",
              "    <tr>\n",
              "      <th>5</th>\n",
              "      <td>Stacking Regressor (RidgeCV)</td>\n",
              "      <td>-0.139706</td>\n",
              "      <td>12.049894</td>\n",
              "      <td>8.476259</td>\n",
              "      <td>107.778824</td>\n",
              "    </tr>\n",
              "    <tr>\n",
              "      <th>6</th>\n",
              "      <td>Stacking Regressor (Forests)</td>\n",
              "      <td>0.355064</td>\n",
              "      <td>10.189389</td>\n",
              "      <td>7.881776</td>\n",
              "      <td>43.036000</td>\n",
              "    </tr>\n",
              "  </tbody>\n",
              "</table>\n",
              "</div>"
            ],
            "text/plain": [
              "                          Estimators        R2  ...  Mean Absolute Error   Max Error\n",
              "0                  Linear Regression -0.809725  ...             9.196593  140.836709\n",
              "1                              Lasso  0.335111  ...             8.094631   39.441593\n",
              "2                         ElasticNet  0.317713  ...             8.230083   38.736773\n",
              "3  Decision Tree Regressor (RidgeCV) -0.084358  ...            10.095092   53.400000\n",
              "4  Decision Tree Regressor (Forests) -0.090132  ...            10.147692   55.800000\n",
              "5       Stacking Regressor (RidgeCV) -0.139706  ...             8.476259  107.778824\n",
              "6       Stacking Regressor (Forests)  0.355064  ...             7.881776   43.036000\n",
              "\n",
              "[7 rows x 5 columns]"
            ]
          },
          "metadata": {
            "tags": []
          },
          "execution_count": 50
        }
      ]
    },
    {
      "cell_type": "code",
      "metadata": {
        "colab": {
          "base_uri": "https://localhost:8080/"
        },
        "id": "WXpAt9UG5EyH",
        "outputId": "84163e86-12b2-4e70-8bfb-3444eb58ea75"
      },
      "source": [
        "#Unite y_pred_total_Ridge with y_pred_total_Forest\n",
        "#Verify if there is repeated data and remove\n",
        "#Reorganize the values according to the metrics dataset\n",
        "y_pred_total_2 = []\n",
        "y_pred_total_2.append(y_pred_total_Ridge_2[0])\n",
        "y_pred_total_2.append(y_pred_total_Ridge_2[1])\n",
        "y_pred_total_2.append(y_pred_total_Ridge_2[2])\n",
        "y_pred_total_2.append(y_pred_total_Ridge_2[3])\n",
        "y_pred_total_2.append(y_pred_total_Forest_2[3])\n",
        "y_pred_total_2.append(y_pred_total_Ridge_2[4])\n",
        "y_pred_total_2.append(y_pred_total_Forest_2[4])\n",
        "print(y_pred_total_2)"
      ],
      "execution_count": null,
      "outputs": [
        {
          "output_type": "stream",
          "text": [
            "[array([85.93297536, 76.7095531 , 77.13092227, ..., 62.44267985,\n",
            "       60.05206218, 72.40394513]), array([84.12555237, 76.64406638, 76.89070376, ..., 62.93191067,\n",
            "       60.76238998, 71.61270852]), array([82.60136928, 76.23774697, 75.41231153, ..., 62.38677951,\n",
            "       61.19001556, 70.58866901]), array([96., 64., 74., ..., 64., 52., 76.]), array([96., 64., 79., ..., 64., 52., 74.]), array([87.35497954, 74.69819105, 75.86201795, ..., 62.89626961,\n",
            "       58.75407852, 73.49530753]), array([92.89, 75.36, 69.34, ..., 66.85, 57.37, 73.47])]\n"
          ],
          "name": "stdout"
        }
      ]
    },
    {
      "cell_type": "code",
      "metadata": {
        "colab": {
          "base_uri": "https://localhost:8080/",
          "height": 787
        },
        "id": "YGlemfl65G-H",
        "outputId": "b34c70fc-ebc6-4eb6-9930-3db16b111caf"
      },
      "source": [
        "plt.figure(figsize=(9, 12))\n",
        "\n",
        "i=1\n",
        "for value in y_pred_total_2:\n",
        "  plt.subplot(4,2,i)\n",
        "  plt.scatter(y_test,value)\n",
        "  plt.title(graph_names[i])\n",
        "  i+=1\n",
        "\n",
        "#plt.subplot(numero de linhas,numero de colunas,numero do gráfico(começa no 0 e vai +1))\n",
        "plt.suptitle('Scatter Plots')\n",
        "plt.subplots_adjust(top=0.9, hspace = 0.5)\n",
        "plt.show()"
      ],
      "execution_count": null,
      "outputs": [
        {
          "output_type": "display_data",
          "data": {
            "image/png": "[encoded data removed]",
            "text/plain": [
              "<Figure size 648x864 with 7 Axes>"
            ]
          },
          "metadata": {
            "tags": [],
            "needs_background": "light"
          }
        }
      ]
    }
  ]
}